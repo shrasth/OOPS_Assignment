{
 "cells": [
  {
   "cell_type": "markdown",
   "id": "d28a6122-1d75-432c-96a9-0a8c6eb89c0e",
   "metadata": {},
   "source": [
    "**Q1. Explain Class and Object with respect to Object-Oriented Programming. Give a suitable example.**"
   ]
  },
  {
   "cell_type": "markdown",
   "id": "9db33a4f-133a-45dc-8558-d8936daaa13f",
   "metadata": {},
   "source": [
    "Class: It is a blueprint for creating a object. It defines the attributes of an object.\n",
    "\n",
    "Object: It is an instance of a class. It has the attributes and methods defined in the class."
   ]
  },
  {
   "cell_type": "code",
   "execution_count": 4,
   "id": "bd0935e1-30d1-4acd-9e61-6a50f6d1740e",
   "metadata": {},
   "outputs": [],
   "source": [
    "##For example\n",
    "\n",
    "class employee:\n",
    "    def __init__(self, name, department, emp_id):\n",
    "        self.name = name\n",
    "        self.department = department\n",
    "        self.emp_id = emp_id\n",
    "    \n",
    "    def employee_details(self):\n",
    "        return self.name, self.department, self.emp_id"
   ]
  },
  {
   "cell_type": "code",
   "execution_count": 5,
   "id": "4d91f64b-a6ca-475b-9f66-9c5ab13be44b",
   "metadata": {},
   "outputs": [],
   "source": [
    "emp = employee(\"Shrasth\", \"ML\", 12598)"
   ]
  },
  {
   "cell_type": "code",
   "execution_count": 3,
   "id": "9ad20d23-ffa1-45d4-8da0-f1aaccf1c7d8",
   "metadata": {},
   "outputs": [
    {
     "data": {
      "text/plain": [
       "'Shrasth'"
      ]
     },
     "execution_count": 3,
     "metadata": {},
     "output_type": "execute_result"
    }
   ],
   "source": [
    "emp.name"
   ]
  },
  {
   "cell_type": "code",
   "execution_count": 6,
   "id": "3e65ef07-77a2-4cbf-8f6c-abe2c03c0942",
   "metadata": {},
   "outputs": [
    {
     "data": {
      "text/plain": [
       "('Shrasth', 'ML', 12598)"
      ]
     },
     "execution_count": 6,
     "metadata": {},
     "output_type": "execute_result"
    }
   ],
   "source": [
    "emp.employee_details()"
   ]
  },
  {
   "cell_type": "code",
   "execution_count": null,
   "id": "b0f840b6-3b19-437f-b5b1-6fc1dbd35399",
   "metadata": {},
   "outputs": [],
   "source": []
  },
  {
   "cell_type": "markdown",
   "id": "ae08e2e3-d62c-4fa3-8a88-33a4db504bd3",
   "metadata": {},
   "source": [
    "**Q2. Name the four pillars of OOPs.**"
   ]
  },
  {
   "cell_type": "markdown",
   "id": "9a9b3c53-ecd4-45a9-a70b-479d022d3f2f",
   "metadata": {},
   "source": [
    "The four pillars of OOPs are:\n",
    "1. Polymorphism\n",
    "2. Encapsulation\n",
    "3. Inheritance\n",
    "4. Abstraction"
   ]
  },
  {
   "cell_type": "code",
   "execution_count": null,
   "id": "3ce9d67d-f76d-4d1a-9eab-72e45c979329",
   "metadata": {},
   "outputs": [],
   "source": []
  },
  {
   "cell_type": "markdown",
   "id": "a8acd7de-24c9-4f0b-b7d5-7ad7112a29e2",
   "metadata": {},
   "source": [
    "**Q3. Explain why the __init__() function is used. Give a suitable example.**"
   ]
  },
  {
   "cell_type": "markdown",
   "id": "789d0f55-d014-4a44-86e0-1ef089a0b85c",
   "metadata": {},
   "source": [
    "The primary purpose of the __init__() function is to initialize the object's attributess that need to be executed when the object is created."
   ]
  },
  {
   "cell_type": "code",
   "execution_count": 2,
   "id": "40374030-9811-4ccc-985d-51bf6d002023",
   "metadata": {},
   "outputs": [],
   "source": [
    "##Example:\n",
    "\n",
    "class student_roll:\n",
    "    def __init__(self, name, roll_number):\n",
    "        self.name = name\n",
    "        self.roll_number  = roll_number\n",
    "    \n",
    "    def intro(self):\n",
    "        print(f\"Name : {self.name}, Roll number: {self.roll_number}\")"
   ]
  },
  {
   "cell_type": "code",
   "execution_count": 3,
   "id": "ece55ed2-7352-4162-b27e-301ab58f5bce",
   "metadata": {},
   "outputs": [],
   "source": [
    "stu = student_roll(\"Mohan\", 56)"
   ]
  },
  {
   "cell_type": "code",
   "execution_count": 4,
   "id": "3d408033-5af0-41ea-987c-9d02e8bd0dbd",
   "metadata": {},
   "outputs": [
    {
     "name": "stdout",
     "output_type": "stream",
     "text": [
      "Name : Mohan, Roll number: 56\n"
     ]
    }
   ],
   "source": [
    "stu.intro()"
   ]
  },
  {
   "cell_type": "code",
   "execution_count": null,
   "id": "a2a88594-e4d6-4cb0-a48f-a686d71a44fc",
   "metadata": {},
   "outputs": [],
   "source": []
  },
  {
   "cell_type": "markdown",
   "id": "6727eda4-192c-4453-b06b-59a2aa068994",
   "metadata": {},
   "source": [
    "**Q4. Why self is used in OOPs?**"
   ]
  },
  {
   "cell_type": "markdown",
   "id": "2c3d7b2d-bc6e-451c-9bb1-18b760993d95",
   "metadata": {},
   "source": [
    "\"self\" is used in OOPs to refer to the current instance of the class.It allows the object to access its own attributes and methods."
   ]
  },
  {
   "cell_type": "code",
   "execution_count": null,
   "id": "4e8a6616-76e8-4fcb-9f33-6c8f495ede3f",
   "metadata": {},
   "outputs": [],
   "source": []
  },
  {
   "cell_type": "markdown",
   "id": "f751ce8d-2eb3-4a37-8869-3188455a907a",
   "metadata": {},
   "source": [
    "**Q5. What is inheritance? Give an example for each type of inheritance.**"
   ]
  },
  {
   "cell_type": "markdown",
   "id": "4f5f11fa-d5f3-47e5-91cd-dc5f20de55bb",
   "metadata": {},
   "source": [
    "Inheritance: it allows a class to inherit properties and behaviors from another class. There are 5 types of inheritance:\n",
    "\n",
    "1. Single Inheritance\n",
    "2. Multiple Inheritance\n",
    "3. Multilevel Inheritance\n",
    "4. Hierarchical Inheritance\n",
    "5. Hybrid Inheritance"
   ]
  },
  {
   "cell_type": "markdown",
   "id": "c949fdad-a3a1-4fbb-bad2-1f97e675b1ed",
   "metadata": {},
   "source": [
    "**Single Inheritance** : A class inherits properties from a single parent class."
   ]
  },
  {
   "cell_type": "code",
   "execution_count": 7,
   "id": "e481aa20-bb69-4283-96bc-533f917bd1f2",
   "metadata": {},
   "outputs": [],
   "source": [
    "#Example of Single Inheritance\n",
    "\n",
    "class Parent:\n",
    "    \n",
    "    def func1(self):\n",
    "        print(\"This is a parent class\")\n",
    "    \n",
    "class child(Parent):\n",
    "    \n",
    "        def funct2(self):\n",
    "            print(\"This function is in child class\")"
   ]
  },
  {
   "cell_type": "code",
   "execution_count": 8,
   "id": "609a7771-a91e-425e-a569-2a2e66e9fa57",
   "metadata": {},
   "outputs": [
    {
     "name": "stdout",
     "output_type": "stream",
     "text": [
      "This is a parent class\n",
      "This function is in child class\n"
     ]
    }
   ],
   "source": [
    "obj = child()\n",
    "obj.func1()\n",
    "obj.funct2()"
   ]
  },
  {
   "cell_type": "markdown",
   "id": "ac88ab38-94f3-4f8f-b576-6c4cadfcac6a",
   "metadata": {},
   "source": [
    "**Multiple Inheritance**: When a class can be derived from more than one base class."
   ]
  },
  {
   "cell_type": "code",
   "execution_count": 23,
   "id": "b915382c-3f46-4bd4-8804-e05373f69020",
   "metadata": {},
   "outputs": [],
   "source": [
    "#Example of Multiple Inheritance\n",
    "\n",
    "class Mother:\n",
    "    mothername = \"\"\n",
    " \n",
    "    def mother(self):\n",
    "        print(self.mothername)\n",
    "\n",
    "class Father:\n",
    "    fathername= \"\"\n",
    " \n",
    "    def father(self):\n",
    "        print(self.fathername)\n",
    "\n",
    "class Son(Mother , Father):\n",
    "    def parents(self):\n",
    "        print(f\"I call my father as {self.fathername} and mother as {self.mothername}\")"
   ]
  },
  {
   "cell_type": "code",
   "execution_count": 24,
   "id": "187999a5-56d8-4c94-8f70-d7de2fbdd83a",
   "metadata": {},
   "outputs": [
    {
     "name": "stdout",
     "output_type": "stream",
     "text": [
      "I call my father as Paa and mother as Maa\n"
     ]
    }
   ],
   "source": [
    "s1 = Son()\n",
    "s1.fathername = \"Paa\"\n",
    "s1.mothername = \"Maa\"\n",
    "s1.parents()"
   ]
  },
  {
   "cell_type": "markdown",
   "id": "58e87bdd-825a-4bd1-9b55-fb4a097fc511",
   "metadata": {},
   "source": [
    "**Multilevel Inheritance**: In multilevel inheritance, features of the base class and the derived class are further inherited into the new derived class"
   ]
  },
  {
   "cell_type": "code",
   "execution_count": 43,
   "id": "0a78ec7a-ca46-459c-a285-7a956ef48e94",
   "metadata": {},
   "outputs": [],
   "source": [
    "##Example of Multilevel Inheritance :\n",
    "\n",
    "class Vehicle:\n",
    "    def model(self, model_year):\n",
    "        self.model_year = model_year\n",
    "        \n",
    "\n",
    "class Car(Vehicle):\n",
    "    def Amount(self, cost):\n",
    "        self.cost = cost\n",
    "\n",
    "    def display(self):\n",
    "        print(f\"Model Year : {self.model_year}\")\n",
    "        print(f\"Cost : {self.cost}\")\n",
    "\n",
    "class Sedan(Car):\n",
    "    def Max_speed(self, top_speed):\n",
    "        self.top_speed = top_speed\n",
    "\n",
    "    def display(self):\n",
    "        print(\"My Sedan Details:\")\n",
    "        Car.display(self)\n",
    "        print(f\"Top Speed: {self.top_speed} kmph\")       "
   ]
  },
  {
   "cell_type": "code",
   "execution_count": 44,
   "id": "5818da9a-3a35-469c-a7ba-8b5bbce6131a",
   "metadata": {},
   "outputs": [
    {
     "name": "stdout",
     "output_type": "stream",
     "text": [
      "My Sedan Details:\n",
      "Model Year : 2019\n",
      "Cost : 800000\n",
      "Top Speed: 150 kmph\n"
     ]
    }
   ],
   "source": [
    "myCar = Sedan()\n",
    "myCar.model(2019)\n",
    "myCar.Amount(800000)\n",
    "myCar.Max_speed(150)\n",
    "myCar.display()"
   ]
  },
  {
   "cell_type": "markdown",
   "id": "58f7174b-55fc-49e0-a9af-5dda73d141ab",
   "metadata": {},
   "source": [
    "**Hierarchical Inheritance**: When more than one derived class are created from a single base this type of inheritance is called hierarchical inheritance. "
   ]
  },
  {
   "cell_type": "code",
   "execution_count": 46,
   "id": "e9e31f43-12fd-4e8c-adc3-029ccd45bd1c",
   "metadata": {},
   "outputs": [],
   "source": [
    "##Example of Hierarchical Inheritance:\n",
    "\n",
    "class Animal:\n",
    "    def __init__(self, name):\n",
    "        self.name = name\n",
    "    \n",
    "    def eat(self):\n",
    "        print(f\"{self.name} is eating\")\n",
    "\n",
    "class Carnivore(Animal):\n",
    "    def hunt(self):\n",
    "        print(f\"{self.name} is hunting for prey\")\n",
    "\n",
    "class Herbivore(Animal):\n",
    "    def graze(self):\n",
    "        print(f\"{self.name} is grazing on plants\")\n",
    "\n",
    "class Omnivore(Animal):\n",
    "    def hunt_graze(self):\n",
    "        print(f\"{self.name} hunts for the prey as well graze on plants\")        "
   ]
  },
  {
   "cell_type": "code",
   "execution_count": 47,
   "id": "fd5d5477-1658-4ff3-8ca1-1eae9bd846f7",
   "metadata": {},
   "outputs": [],
   "source": [
    "lion = Carnivore(\"Lion\")\n",
    "deer = Herbivore(\"Deer\")\n",
    "bear = Omnivore(\"Bear\")"
   ]
  },
  {
   "cell_type": "code",
   "execution_count": 50,
   "id": "e03caf66-b7b9-411a-9609-d93c6cfb13fc",
   "metadata": {},
   "outputs": [
    {
     "name": "stdout",
     "output_type": "stream",
     "text": [
      "Lion is eating\n",
      "Lion is hunting for prey\n",
      "Deer is eating\n",
      "Deer is grazing on plants\n",
      "Bear is eating\n",
      "Bear hunts for the prey as well graze on plants\n"
     ]
    }
   ],
   "source": [
    "lion.eat()\n",
    "lion.hunt()\n",
    "\n",
    "deer.eat()\n",
    "deer.graze()\n",
    "\n",
    "bear.eat()\n",
    "bear.hunt_graze()\n"
   ]
  },
  {
   "cell_type": "markdown",
   "id": "4c9502e7-3860-4dd1-a857-152432c287c0",
   "metadata": {},
   "source": [
    "**Hybrid Inheritance**: It is a combination of multiple types of inheritance. This can involve a mix of single inheritance, multiple inheritance, or multilevel inheritance."
   ]
  },
  {
   "cell_type": "code",
   "execution_count": 51,
   "id": "d9afa797-d709-4696-a839-cf560efb22f6",
   "metadata": {},
   "outputs": [],
   "source": [
    "##Example of Hybrid Inheritance:\n",
    "\n",
    "class School:\n",
    "    def func1(self):\n",
    "        print(\"This function is in school.\")\n",
    " \n",
    " \n",
    "class Student1(School):\n",
    "    def func2(self):\n",
    "        print(\"This function is in student 1. \")\n",
    " \n",
    " \n",
    "class Student2(School):\n",
    "    def func3(self):\n",
    "        print(\"This function is in student 2.\")\n",
    " \n",
    " \n",
    "class Student3(Student1, School):\n",
    "    def func4(self):\n",
    "        print(\"This function is in student 3.\")"
   ]
  },
  {
   "cell_type": "code",
   "execution_count": 52,
   "id": "9612e864-6444-4695-ba89-a67dcdc21bc4",
   "metadata": {},
   "outputs": [
    {
     "name": "stdout",
     "output_type": "stream",
     "text": [
      "This function is in school.\n",
      "This function is in student 1. \n"
     ]
    }
   ],
   "source": [
    "object = Student3()\n",
    "object.func1()\n",
    "object.func2()"
   ]
  }
 ],
 "metadata": {
  "kernelspec": {
   "display_name": "Python 3 (ipykernel)",
   "language": "python",
   "name": "python3"
  },
  "language_info": {
   "codemirror_mode": {
    "name": "ipython",
    "version": 3
   },
   "file_extension": ".py",
   "mimetype": "text/x-python",
   "name": "python",
   "nbconvert_exporter": "python",
   "pygments_lexer": "ipython3",
   "version": "3.10.8"
  }
 },
 "nbformat": 4,
 "nbformat_minor": 5
}
